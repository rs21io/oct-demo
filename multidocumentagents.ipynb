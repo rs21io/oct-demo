{
 "cells": [
  {
   "cell_type": "code",
   "execution_count": 1,
   "id": "e5ae8f9f-62ac-4af2-8d7d-4e3ead70a426",
   "metadata": {},
   "outputs": [
    {
     "data": {
      "text/plain": [
       "True"
      ]
     },
     "execution_count": 1,
     "metadata": {},
     "output_type": "execute_result"
    }
   ],
   "source": [
    "from dotenv import load_dotenv\n",
    "import os\n",
    "load_dotenv()"
   ]
  },
  {
   "cell_type": "markdown",
   "id": "3e456687-d46c-4746-91bc-40a332b207bd",
   "metadata": {},
   "source": [
    "https://docs.llamaindex.ai/en/stable/examples/agent/multi_document_agents/\n",
    "\n",
    "# Multi-Document Agents\n",
    "\n",
    "In this guide, you learn towards setting up an agent that can effectively answer different types of questions over a larger set of documetns. \n",
    "\n",
    "These questions include the following\n",
    "\n",
    "* QA over a specific doc\n",
    "* QA comparing different docs\n",
    "* Summaries over a specific doc\n",
    "* Comparing summaries between different docs\n",
    "\n",
    "We do this with the following architecture:\n",
    "\n",
    "* setup a \"document agent\" over each Document: each doc agent can do QA/summarization within its doc\n",
    "* setup a top-level agent over this set of document agents. Do tool retrieval and then do CoT over the set of tools to answer a question.\n",
    "\n",
    "\n",
    "## Setup and download data\n",
    "\n",
    "In this section, we'll define imports and then download Wikipedia articles about different cities. Each article is stored separately.\n",
    "\n",
    "We load in 18 ciites - this is not quite at the level of \"hundreds\" of documents but its still large enough to warrant some top-level document retrieval!\n",
    "\n"
   ]
  },
  {
   "cell_type": "markdown",
   "id": "bda54441-3946-4781-8494-833166446787",
   "metadata": {},
   "source": [
    "```sh\n",
    "pip install llama-index-agent-openai\n",
    "pip install llama-index-embeddings-openai\n",
    "pip install llama-index-llms-openai\n",
    "```"
   ]
  },
  {
   "cell_type": "code",
   "execution_count": 2,
   "id": "3fa56d9b-75cc-4b4c-b881-9f603a4a9468",
   "metadata": {},
   "outputs": [],
   "source": [
    "from llama_index.core import (\n",
    "    VectorStoreIndex,\n",
    "    SimpleKeywordTableIndex,\n",
    "    SimpleDirectoryReader,\n",
    ")\n",
    "from llama_index.core import SummaryIndex\n",
    "from llama_index.core.schema import IndexNode\n",
    "from llama_index.core.tools import QueryEngineTool, ToolMetadata\n",
    "from llama_index.llms.openai import OpenAI\n",
    "from llama_index.core.callbacks import CallbackManager"
   ]
  },
  {
   "cell_type": "code",
   "execution_count": 3,
   "id": "ad8f21f5-63b4-46dc-956e-5a319aedad97",
   "metadata": {},
   "outputs": [],
   "source": [
    "wiki_titles = [\n",
    "    \"Toronto\",\n",
    "    \"Seattle\",\n",
    "    \"Chicago\",\n",
    "    \"Boston\",\n",
    "    \"Houston\",\n",
    "    \"Tokyo\",\n",
    "    \"Berlin\",\n",
    "    \"Lisbon\",\n",
    "    \"Paris\",\n",
    "    \"London\",\n",
    "    \"Atlanta\",\n",
    "    \"Munich\",\n",
    "    \"Shanghai\",\n",
    "    \"Beijing\",\n",
    "    \"Copenhagen\",\n",
    "    \"Moscow\",\n",
    "    \"Cairo\",\n",
    "    \"Karachi\",\n",
    "    \"Prague\",\n",
    "    \"Seoul\",\n",
    "    \"Albuquerque\",\n",
    "    \"Montreal\",\n",
    "    \"Oslo\"\n",
    "]"
   ]
  },
  {
   "cell_type": "code",
   "execution_count": 4,
   "id": "3b9ab523-b9e2-4cf9-a1d3-2da47efe933b",
   "metadata": {},
   "outputs": [],
   "source": [
    "from pathlib import Path\n",
    "\n",
    "import requests\n",
    "\n",
    "for title in wiki_titles:\n",
    "    response = requests.get(\n",
    "        \"https://en.wikipedia.org/w/api.php\",\n",
    "        params={\n",
    "            \"action\": \"query\",\n",
    "            \"format\": \"json\",\n",
    "            \"titles\": title,\n",
    "            \"prop\": \"extracts\",\n",
    "            # 'exintro': True,\n",
    "            \"explaintext\": True,\n",
    "        },\n",
    "    ).json()\n",
    "    page = next(iter(response[\"query\"][\"pages\"].values()))\n",
    "    wiki_text = page[\"extract\"]\n",
    "\n",
    "    data_path = Path(\"data\")\n",
    "    if not data_path.exists():\n",
    "        Path.mkdir(data_path)\n",
    "\n",
    "    with open(data_path / f\"{title}.txt\", \"w\") as fp:\n",
    "        fp.write(wiki_text)"
   ]
  },
  {
   "cell_type": "code",
   "execution_count": 5,
   "id": "b409c895-80a2-46a5-9b67-3fbceceaf8ea",
   "metadata": {},
   "outputs": [],
   "source": [
    "# Load all wiki documents\n",
    "city_docs = {}\n",
    "for wiki_title in wiki_titles:\n",
    "    city_docs[wiki_title] = SimpleDirectoryReader(\n",
    "        input_files=[f\"data/{wiki_title}.txt\"]\n",
    "    ).load_data()"
   ]
  },
  {
   "cell_type": "markdown",
   "id": "70a37b9b-4b49-4522-bfdf-79a2dd8abdf7",
   "metadata": {},
   "source": [
    "## Define glocal LLM and  Embeddings"
   ]
  },
  {
   "cell_type": "code",
   "execution_count": 6,
   "id": "3414178a-546d-4412-a5f9-46fc320f06cf",
   "metadata": {},
   "outputs": [],
   "source": [
    "from llama_index.llms.openai import OpenAI\n",
    "from llama_index.embeddings.openai import OpenAIEmbedding\n",
    "from llama_index.core import Settings\n",
    "\n",
    "#Settings.llm = OpenAI(temperature=0, model=\"gpt-3.5-turbo\")\n",
    "#Settings.embed_model = OpenAIEmbedding(model=\"text-embedding-ada-002\")\n",
    "\n",
    "Settings.llm = OpenAI(temperature=0, model=\"gpt-4o-mini\")\n",
    "Settings.embed_model = OpenAIEmbedding(model=\"text-embedding-ada-002\")\n"
   ]
  },
  {
   "cell_type": "code",
   "execution_count": 8,
   "id": "600347f5-16ba-45fe-b2cb-61b322b08045",
   "metadata": {},
   "outputs": [],
   "source": [
    "#help(OpenAIEmbedding)"
   ]
  },
  {
   "cell_type": "markdown",
   "id": "2af1994e-4fdf-4d96-99cc-fc8d215d8095",
   "metadata": {},
   "source": [
    "# Building Multi-Document Agents\n",
    "\n",
    "In this section we show you how to construct the multi-document agent. We first build a document ech for each document, and then define the top-level parent agent with an object index.\n",
    "\n",
    "## Build Document Agent for each Document\n",
    "\n",
    "In this sectoin we define \"document agents\" for each document.\n",
    "\n",
    "We define both a vector index (for semantic search) and summary index (for summarization) for each document. The two query engines are then converted into tools that are passed to an OpenAI functoin calling agent.\n",
    "\n",
    "This document agent can dynamically choose to perform semantic search or summarization wtihin a given document.\n",
    "\n",
    "We create a seprate document agent for each city."
   ]
  },
  {
   "cell_type": "code",
   "execution_count": 27,
   "id": "2160e19a-e6b2-4c28-8f9a-3a8c0c335e42",
   "metadata": {},
   "outputs": [],
   "source": [
    "from llama_index.agent.openai import OpenAIAgent\n",
    "from llama_index.core import load_index_from_storage, StorageContext\n",
    "from llama_index.core.node_parser import SentenceSplitter\n",
    "import os\n",
    "\n",
    "node_parser = SentenceSplitter()\n",
    "\n",
    "# Build agents dictionary\n",
    "agents = {}\n",
    "query_engines = {}\n",
    "\n",
    "# this is for the baseline\n",
    "all_nodes = []\n",
    "\n",
    "for idx, wiki_title in enumerate(wiki_titles):\n",
    "    nodes = node_parser.get_nodes_from_documents(city_docs[wiki_title])\n",
    "    all_nodes.extend(nodes)\n",
    "\n",
    "    if not os.path.exists(f\"./data/{wiki_title}\"):\n",
    "        # build vector index\n",
    "        vector_index = VectorStoreIndex(nodes)\n",
    "        vector_index.storage_context.persist(\n",
    "            persist_dir=f\"./data/{wiki_title}\"\n",
    "        )\n",
    "    else:\n",
    "        vector_index = load_index_from_storage(\n",
    "            StorageContext.from_defaults(persist_dir=f\"./data/{wiki_title}\"),\n",
    "        )\n",
    "\n",
    "    # build summary index\n",
    "    summary_index = SummaryIndex(nodes)\n",
    "    # define query engines\n",
    "    vector_query_engine = vector_index.as_query_engine(llm=Settings.llm)\n",
    "    summary_query_engine = summary_index.as_query_engine(llm=Settings.llm)\n",
    "\n",
    "    # define tools\n",
    "    query_engine_tools = [\n",
    "        QueryEngineTool(\n",
    "            query_engine=vector_query_engine,\n",
    "            metadata=ToolMetadata(\n",
    "                name=\"vector_tool\",\n",
    "                description=(\n",
    "                    \"Useful for questions related to specific aspects of\"\n",
    "                    f\" {wiki_title} (e.g. the history, arts and culture,\"\n",
    "                    \" sports, demographics, or more).\"\n",
    "                ),\n",
    "            ),\n",
    "        ),\n",
    "        QueryEngineTool(\n",
    "            query_engine=summary_query_engine,\n",
    "            metadata=ToolMetadata(\n",
    "                name=\"summary_tool\",\n",
    "                description=(\n",
    "                    \"Useful for any requests that require a holistic summary\"\n",
    "                    f\" of EVERYTHING about {wiki_title}. For questions about\"\n",
    "                    \" more specific sections, please use the vector_tool.\"\n",
    "                ),\n",
    "            ),\n",
    "        ),\n",
    "    ]\n",
    "\n",
    "    # build agent\n",
    "    function_llm = OpenAI(model=\"gpt-4\")\n",
    "    agent = OpenAIAgent.from_tools(\n",
    "        query_engine_tools,\n",
    "        llm=function_llm,\n",
    "        verbose=True,\n",
    "        system_prompt=f\"\"\"\\\n",
    "You are a specialized agent designed to answer queries about {wiki_title}.\n",
    "You must ALWAYS use at least one of the tools provided when answering a question; do NOT rely on prior knowledge.\\\n",
    "\"\"\",\n",
    "    )\n",
    "\n",
    "    agents[wiki_title] = agent\n",
    "    query_engines[wiki_title] = vector_index.as_query_engine(\n",
    "        similarity_top_k=20\n",
    "    )"
   ]
  },
  {
   "cell_type": "markdown",
   "id": "a41b8bb7-4aad-4a6c-a2b8-1dad64916f08",
   "metadata": {},
   "source": [
    "# Build Retriever-Enabled OpenAI Agent\n",
    "\n",
    "We build a top-level agent that can orchestrate across the different document agents to answer any user query. \n",
    "\n",
    "This agent takes in all document agents as tools. This specific agent `RetrieverOpenAIAgent` performs tool retrieval before tool use (unlike a default agent that tries to pus all tools in the prompt)\n",
    "\n",
    "Here we use a top-k retriever, but we encourage you to customizet he tool retriever method!"
   ]
  },
  {
   "cell_type": "code",
   "execution_count": 28,
   "id": "b7c3ca1b-219c-4c8b-a4af-415832923549",
   "metadata": {},
   "outputs": [],
   "source": [
    "# define tool for each document agent\n",
    "all_tools = []\n",
    "for wiki_title in wiki_titles:\n",
    "    wiki_summary = (\n",
    "        f\"This content contains Wikipedia articles about {wiki_title}. Use\"\n",
    "        f\" this tool if you want to answer any questions about {wiki_title}.\\n\"\n",
    "    )\n",
    "    doc_tool = QueryEngineTool(\n",
    "        query_engine=agents[wiki_title],\n",
    "        metadata=ToolMetadata(\n",
    "            name=f\"tool_{wiki_title}\",\n",
    "            description=wiki_summary,\n",
    "        ),\n",
    "    )\n",
    "    all_tools.append(doc_tool)"
   ]
  },
  {
   "cell_type": "code",
   "execution_count": 29,
   "id": "fd23cfc3-ec55-4f90-b45e-41f75626e8e7",
   "metadata": {},
   "outputs": [],
   "source": [
    "# define an \"object\" index and retriever over these tools\n",
    "from llama_index.core import VectorStoreIndex\n",
    "from llama_index.core.objects import ObjectIndex\n",
    "\n",
    "obj_index = ObjectIndex.from_objects(\n",
    "    all_tools,\n",
    "    index_cls=VectorStoreIndex,\n",
    ")"
   ]
  },
  {
   "cell_type": "code",
   "execution_count": 30,
   "id": "c546c809-209b-4f6d-aed6-f5235e7f161b",
   "metadata": {},
   "outputs": [],
   "source": [
    "from llama_index.agent.openai import OpenAIAgent\n",
    "\n",
    "top_agent = OpenAIAgent.from_tools(\n",
    "    tool_retriever=obj_index.as_retriever(similarity_top_k=5),\n",
    "    system_prompt=\"\"\" \\\n",
    "You are an agent designed to answer queries about a set of given cities.\n",
    "Please always use the tools provided to answer a question. Do not rely on prior knowledge.\\\n",
    "\n",
    "\"\"\",\n",
    "    verbose=True,\n",
    ")"
   ]
  },
  {
   "cell_type": "markdown",
   "id": "e570fc26-325d-4341-9b87-b681a1314247",
   "metadata": {},
   "source": [
    "# Define Baseline Vector STore Index\n",
    "\n",
    "As a point of comparison, we define a \"naive\" RAG pipeline which dumps all docs into a single vector index collection.\n",
    "\n",
    "We set the top_k = 4."
   ]
  },
  {
   "cell_type": "code",
   "execution_count": 32,
   "id": "cebcce84-104b-47b7-934f-82ef8d1f3645",
   "metadata": {},
   "outputs": [],
   "source": [
    "base_index = VectorStoreIndex(all_nodes)\n",
    "base_query_engine = base_index.as_query_engine(similarity_top_k=20)"
   ]
  },
  {
   "cell_type": "markdown",
   "id": "701b5f8d-8a2d-4e48-89df-1dc550f426bd",
   "metadata": {},
   "source": [
    "# Running Example Queries\n",
    "\n",
    "Let's run some example queries, ranging from QA / summaries over a single document to QA / Summarization over multiple documents"
   ]
  },
  {
   "cell_type": "code",
   "execution_count": 33,
   "id": "dd4d0c3f-b8c2-4551-b342-aa00571f9048",
   "metadata": {},
   "outputs": [
    {
     "name": "stdout",
     "output_type": "stream",
     "text": [
      "Added user message to memory: Tell me about the arts and culture in Boston.\n",
      "=== Calling Function ===\n",
      "Calling function: tool_Boston with args: {\"input\":\"arts and culture\"}\n",
      "Added user message to memory: arts and culture\n",
      "=== Calling Function ===\n",
      "Calling function: vector_tool with args: {\n",
      "  \"input\": \"arts and culture\"\n",
      "}\n",
      "Got output: Boston boasts a rich arts and culture scene, featuring numerous art museums and galleries such as the Museum of Fine Arts and the Isabella Stewart Gardner Museum. The Institute of Contemporary Art, located in a modern building in the Seaport District, adds to the city's contemporary art offerings. The South End Art and Design District (SoWa) and Newbury Street are popular destinations for art galleries.\n",
      "\n",
      "The city has a strong literary heritage, often referred to as the \"Athens of America\" due to its historical significance in American literature, with notable writers like Ralph Waldo Emerson and Henry Wadsworth Longfellow having roots in Boston. The Boston Public Library, established as the first free library in the United States, continues to support the city's literary culture.\n",
      "\n",
      "Music is highly valued in Boston, with the Boston Symphony Orchestra being one of the top orchestras in the country. Symphony Hall is renowned for its acoustics and hosts various performances, including those by the Boston Pops Orchestra. The city also has a vibrant performing arts scene, featuring ballet, opera, and numerous theaters in the Theater District.\n",
      "\n",
      "Annual events such as First Night on New Year's Eve, the Boston Arts Festival, and the Boston gay pride parade celebrate the city's cultural diversity. Historic sites related to the American Revolution, many along the Freedom Trail, further enrich Boston's cultural landscape.\n",
      "========================\n",
      "\n",
      "Got output: Boston is renowned for its vibrant arts and culture scene. The city is home to numerous art museums and galleries, including the Museum of Fine Arts and the Isabella Stewart Gardner Museum. The Institute of Contemporary Art, located in the Seaport District, is another significant contributor to the city's contemporary art offerings. Art enthusiasts also frequent the South End Art and Design District (SoWa) and Newbury Street for their array of art galleries.\n",
      "\n",
      "Boston's literary heritage is also noteworthy, with the city often referred to as the \"Athens of America\" due to its historical significance in American literature. Notable writers like Ralph Waldo Emerson and Henry Wadsworth Longfellow have roots in Boston. The Boston Public Library, the first free library in the United States, continues to support the city's literary culture.\n",
      "\n",
      "In terms of music, the Boston Symphony Orchestra is one of the top orchestras in the country, and Symphony Hall, known for its excellent acoustics, hosts various performances, including those by the Boston Pops Orchestra. The city's performing arts scene is also vibrant, featuring ballet, opera, and numerous theaters in the Theater District.\n",
      "\n",
      "Boston's cultural diversity is celebrated through annual events such as First Night on New Year's Eve, the Boston Arts Festival, and the Boston gay pride parade. The city's cultural landscape is further enriched by historic sites related to the American Revolution, many of which are located along the Freedom Trail.\n",
      "========================\n",
      "\n"
     ]
    }
   ],
   "source": [
    "# should use Boston agent -> vector tool\n",
    "response = top_agent.query(\"Tell me about the arts and culture in Boston.\")"
   ]
  },
  {
   "cell_type": "code",
   "execution_count": 34,
   "id": "8f2800a5-0e38-461b-9ecc-e83065e85b60",
   "metadata": {},
   "outputs": [
    {
     "name": "stdout",
     "output_type": "stream",
     "text": [
      "Boston is renowned for its vibrant arts and culture scene. The city boasts numerous art museums and galleries, including the Museum of Fine Arts and the Isabella Stewart Gardner Museum. The Institute of Contemporary Art, located in the Seaport District, is a significant contributor to contemporary art offerings. Art enthusiasts also frequent the South End Art and Design District (SoWa) and Newbury Street for their array of galleries.\n",
      "\n",
      "The city's literary heritage is noteworthy, often referred to as the \"Athens of America\" due to its historical significance in American literature. Notable writers like Ralph Waldo Emerson and Henry Wadsworth Longfellow have roots in Boston. The Boston Public Library, the first free library in the United States, continues to support the city's literary culture.\n",
      "\n",
      "In music, the Boston Symphony Orchestra is one of the top orchestras in the country, and Symphony Hall, known for its excellent acoustics, hosts various performances, including those by the Boston Pops Orchestra. The performing arts scene is vibrant, featuring ballet, opera, and numerous theaters in the Theater District.\n",
      "\n",
      "Boston's cultural diversity is celebrated through annual events such as First Night on New Year's Eve, the Boston Arts Festival, and the Boston gay pride parade. The city's cultural landscape is further enriched by historic sites related to the American Revolution, many of which are located along the Freedom Trail.\n"
     ]
    }
   ],
   "source": [
    "print(response)"
   ]
  },
  {
   "cell_type": "code",
   "execution_count": 35,
   "id": "779472fb-13db-45f2-8262-63371cba9f8f",
   "metadata": {},
   "outputs": [
    {
     "name": "stdout",
     "output_type": "stream",
     "text": [
      "Boston boasts a rich arts and culture scene, deeply rooted in its historical significance and diverse community. The city is known for its vibrant literary culture, often referred to as the \"Athens of America,\" with a legacy that includes renowned writers such as Ralph Waldo Emerson and Henry Wadsworth Longfellow. The Old Corner Bookstore is celebrated as a historic literary meeting place.\n",
      "\n",
      "In the realm of music, Boston is home to prestigious institutions like the Boston Symphony Orchestra, recognized as one of the world's best orchestras, and Symphony Hall, a premier venue for classical music. The city also supports a variety of performing arts organizations, including the Boston Ballet and the Boston Lyric Opera Company. The Theater District features numerous theaters, showcasing a range of performances from Broadway shows to local productions.\n",
      "\n",
      "Boston hosts several major annual cultural events, such as the Boston Book Festival and First Night on New Year's Eve, which celebrate the city's artistic spirit. The city is also home to numerous art museums, including the Museum of Fine Arts and the Isabella Stewart Gardner Museum, which contribute to its vibrant cultural landscape.\n",
      "\n",
      "The city's neighborhoods reflect its diverse population, with various cultural enclaves that enhance its artistic offerings. Overall, Boston's arts and culture scene is characterized by a blend of historical significance, contemporary innovation, and community engagement.\n"
     ]
    }
   ],
   "source": [
    "# baseline\n",
    "response = base_query_engine.query(\n",
    "    \"Tell me about the arts and culture in Boston\"\n",
    ")\n",
    "print(str(response))"
   ]
  },
  {
   "cell_type": "code",
   "execution_count": 36,
   "id": "90307a02-8dc5-4029-a109-e2caf040f974",
   "metadata": {},
   "outputs": [
    {
     "name": "stdout",
     "output_type": "stream",
     "text": [
      "Added user message to memory: Give me a summary of all the positive aspects of Seoul\n",
      "=== Calling Function ===\n",
      "Calling function: tool_Seoul with args: {\"input\":\"positive aspects of Seoul\"}\n",
      "Added user message to memory: positive aspects of Seoul\n",
      "=== Calling Function ===\n",
      "Calling function: vector_tool with args: {\n",
      "  \"input\": \"positive aspects of Seoul\"\n",
      "}\n",
      "Got output: Seoul boasts several positive aspects, including:\n",
      "\n",
      "1. **Economic Hub**: It serves as the business and financial center of South Korea, contributing significantly to the national GDP and hosting numerous Fortune Global 500 companies.\n",
      "\n",
      "2. **High Quality of Life**: The city has been recognized for its livability and quality of life, ranking highly in global assessments.\n",
      "\n",
      "3. **Cultural Richness**: Seoul is home to five UNESCO World Heritage Sites and has a vibrant cultural scene, including traditional and modern art markets.\n",
      "\n",
      "4. **Modern Infrastructure**: The city features impressive modern architecture and infrastructure, including iconic landmarks and extensive shopping complexes.\n",
      "\n",
      "5. **Diverse Commerce**: It offers a wide range of shopping experiences, from traditional markets to high-end retail areas, catering to various consumer preferences.\n",
      "\n",
      "6. **Technological Advancement**: Seoul is a leader in technology and innovation, with major tech hubs and a strong presence of information technology and electronics industries.\n",
      "\n",
      "7. **Transportation**: The city has a well-developed public transportation system, making it easy to navigate and access various districts.\n",
      "\n",
      "8. **Global Events**: Seoul has hosted significant international events, enhancing its global profile and attractiveness as a destination for conferences and tourism.\n",
      "\n",
      "9. **Natural Beauty**: Geographically, it is set in a mountainous area, providing scenic views and opportunities for outdoor activities. \n",
      "\n",
      "These aspects contribute to Seoul's reputation as a dynamic and appealing city both for residents and visitors.\n",
      "========================\n",
      "\n",
      "Got output: Seoul has numerous positive aspects that make it a vibrant and appealing city:\n",
      "\n",
      "1. **Economic Hub**: Seoul is the business and financial center of South Korea, contributing significantly to the national GDP and hosting numerous Fortune Global 500 companies.\n",
      "\n",
      "2. **High Quality of Life**: The city is recognized for its livability and quality of life, ranking highly in global assessments.\n",
      "\n",
      "3. **Cultural Richness**: With five UNESCO World Heritage Sites, Seoul has a vibrant cultural scene, including traditional and modern art markets.\n",
      "\n",
      "4. **Modern Infrastructure**: Seoul features impressive modern architecture and infrastructure, including iconic landmarks and extensive shopping complexes.\n",
      "\n",
      "5. **Diverse Commerce**: The city offers a wide range of shopping experiences, from traditional markets to high-end retail areas, catering to various consumer preferences.\n",
      "\n",
      "6. **Technological Advancement**: As a leader in technology and innovation, Seoul has major tech hubs and a strong presence of information technology and electronics industries.\n",
      "\n",
      "7. **Transportation**: Seoul's well-developed public transportation system makes it easy to navigate and access various districts.\n",
      "\n",
      "8. **Global Events**: The city has hosted significant international events, enhancing its global profile and attractiveness as a destination for conferences and tourism.\n",
      "\n",
      "9. **Natural Beauty**: Set in a mountainous area, Seoul provides scenic views and opportunities for outdoor activities. \n",
      "\n",
      "These aspects contribute to Seoul's reputation as a dynamic and appealing city for both residents and visitors.\n",
      "========================\n",
      "\n"
     ]
    }
   ],
   "source": [
    "# should use Houston agent -> vector tool\n",
    "response = top_agent.query(\n",
    "    \"Give me a summary of all the positive aspects of Seoul\"\n",
    ")"
   ]
  },
  {
   "cell_type": "code",
   "execution_count": 37,
   "id": "3cb239a7-33ab-473a-bdbc-240f0636d63f",
   "metadata": {},
   "outputs": [],
   "source": [
    "# should use Houston agent -> vector tool\n",
    "response = base_query_engine.query(\n",
    "    \"Give me a summary of all the positive aspects of Seoul\"\n",
    ")"
   ]
  },
  {
   "cell_type": "code",
   "execution_count": 38,
   "id": "35f0b84c-c50f-4fcb-bc0f-fc8d5d87507b",
   "metadata": {},
   "outputs": [
    {
     "name": "stdout",
     "output_type": "stream",
     "text": [
      "Seoul is recognized for its high quality of life, having been rated as Asia's most livable city and the second-highest globally in 2015. The city boasts a technologically advanced infrastructure, being the world's \"most wired city\" with exceptional internet connectivity and high-speed broadband access. It is home to major global companies, including 15 Fortune Global 500 firms, and has significant economic influence, contributing a substantial portion of South Korea's GDP.\n",
      "\n",
      "Culturally, Seoul is rich in history and heritage, featuring five UNESCO World Heritage Sites and numerous museums, including the National Museum of Korea. The city is a hub for the arts, hosting various festivals and events that celebrate music, dance, and traditional performances. Its vibrant neighborhoods offer a mix of modern and traditional experiences, with bustling markets and shopping districts.\n",
      "\n",
      "Seoul's transportation system is well-developed, with an extensive subway network and bus services that facilitate easy movement throughout the city. The city also prioritizes green spaces, with numerous parks and recreational areas, enhancing the urban environment. Additionally, Seoul's commitment to sustainability and air quality improvement reflects its proactive approach to urban living.\n",
      "\n",
      "Overall, Seoul's blend of modernity, cultural richness, economic vitality, and commitment to livability makes it a dynamic and attractive city.\n"
     ]
    }
   ],
   "source": [
    "print(str(response))"
   ]
  },
  {
   "cell_type": "code",
   "execution_count": null,
   "id": "c53a06e5-98db-4a20-b772-b33fd8d7a918",
   "metadata": {},
   "outputs": [
    {
     "name": "stdout",
     "output_type": "stream",
     "text": [
      "Added user message to memory: Give me a detailed summary of Seoul\n",
      "=== Calling Function ===\n",
      "Calling function: tool_Seoul with args: {\"input\":\"detailed summary\"}\n",
      "Added user message to memory: detailed summary\n",
      "=== Calling Function ===\n",
      "Calling function: summary_tool with args: {\n",
      "  \"input\": \"Seoul\"\n",
      "}\n",
      "Got output: Seoul, officially known as Seoul Special Metropolitan City, is the capital and largest city of South Korea. It is part of the broader Seoul Capital Area, which includes Gyeonggi province and Incheon Metropolitan City, making it one of the world's largest metropolitan economies. The city has a rich history dating back to 18 BC when it was founded by the Baekje kingdom. Over the centuries, it has served as the capital during various dynasties, including the Joseon dynasty, and has undergone significant transformations, especially during the Japanese occupation and the Korean War.\n",
      "\n",
      "As of 2020, Seoul's population was approximately 9.97 million, having peaked at over 10 million in 2014. The city is known for its modern architecture, cultural landmarks, and as a hub for technology and business, hosting major companies like Samsung and LG. It has also been recognized for its quality of life and livability.\n",
      "\n",
      "Geographically, Seoul is situated in a mountainous region, bisected by the Han River, and features numerous parks and recreational areas. The city faces challenges such as air pollution, which has prompted various government initiatives to improve air quality. \n",
      "\n",
      "Seoul's transportation network is extensive, including a busy subway system, buses, and connections to major rail lines. The city is also known for its vibrant culture, with numerous festivals, museums, and a strong sports presence, having hosted significant international events like the 1988 Summer Olympics and the 2002 FIFA World Cup.\n",
      "========================\n",
      "\n",
      "Got output: Seoul, officially known as Seoul Special Metropolitan City, is the capital and largest city of South Korea. It is part of the broader Seoul Capital Area, which includes Gyeonggi province and Incheon Metropolitan City, making it one of the world's largest metropolitan economies. The city has a rich history dating back to 18 BC when it was founded by the Baekje kingdom. Over the centuries, it has served as the capital during various dynasties, including the Joseon dynasty, and has undergone significant transformations, especially during the Japanese occupation and the Korean War.\n",
      "\n",
      "As of 2020, Seoul's population was approximately 9.97 million, having peaked at over 10 million in 2014. The city is known for its modern architecture, cultural landmarks, and as a hub for technology and business, hosting major companies like Samsung and LG. It has also been recognized for its quality of life and livability.\n",
      "\n",
      "Geographically, Seoul is situated in a mountainous region, bisected by the Han River, and features numerous parks and recreational areas. The city faces challenges such as air pollution, which has prompted various government initiatives to improve air quality. \n",
      "\n",
      "Seoul's transportation network is extensive, including a busy subway system, buses, and connections to major rail lines. The city is also known for its vibrant culture, with numerous festivals, museums, and a strong sports presence, having hosted significant international events like the 1988 Summer Olympics and the 2002 FIFA World Cup.\n",
      "========================\n",
      "\n"
     ]
    }
   ],
   "source": [
    "# should use Houston agent -> vector tool\n",
    "response = top_agent.query(\n",
    "    \"Give me a detailed summary of Seoul\"\n",
    ")"
   ]
  },
  {
   "cell_type": "code",
   "execution_count": null,
   "id": "b1d32201-5abc-4c7e-88f2-0bf0d1c83857",
   "metadata": {},
   "outputs": [],
   "source": []
  }
 ],
 "metadata": {
  "kernelspec": {
   "display_name": "Python 3 (ipykernel)",
   "language": "python",
   "name": "python3"
  },
  "language_info": {
   "codemirror_mode": {
    "name": "ipython",
    "version": 3
   },
   "file_extension": ".py",
   "mimetype": "text/x-python",
   "name": "python",
   "nbconvert_exporter": "python",
   "pygments_lexer": "ipython3",
   "version": "3.12.7"
  }
 },
 "nbformat": 4,
 "nbformat_minor": 5
}
