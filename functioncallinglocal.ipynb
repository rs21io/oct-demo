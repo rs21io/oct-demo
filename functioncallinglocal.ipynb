{
 "cells": [
  {
   "cell_type": "code",
   "execution_count": 1,
   "id": "8f77c18b-14d6-4326-8235-8cf7398b04fa",
   "metadata": {},
   "outputs": [
    {
     "data": {
      "text/plain": [
       "True"
      ]
     },
     "execution_count": 1,
     "metadata": {},
     "output_type": "execute_result"
    }
   ],
   "source": [
    "from dotenv import load_dotenv\n",
    "import os\n",
    "load_dotenv()"
   ]
  },
  {
   "cell_type": "markdown",
   "id": "a1b5e194-bf32-49da-ab4e-88164f086677",
   "metadata": {},
   "source": [
    "See the discussion here:\n",
    "\n",
    "https://github.com/run-llama/llama_index/discussions/13431\n",
    "\n",
    "You should use ReactAgentWorker - the function calling agent worker is only for LLMs with a specific API built-in for tool calling (this includes openai, anthropic, and mistral)\n",
    "\n"
   ]
  },
  {
   "cell_type": "code",
   "execution_count": 15,
   "id": "51bad475-c007-4706-b53d-a566fe461d47",
   "metadata": {},
   "outputs": [],
   "source": [
    "from llama_index.core.tools import FunctionTool\n",
    "from llama_index.llms.ollama import Ollama\n",
    "from llama_index.core.agent import ReActAgent\n",
    "from tavily import TavilyClient \n",
    "\n",
    "\n",
    "# we_search\n",
    "\n",
    "def web_search(query: str) -> str:\n",
    "    \"\"\"\n",
    "    Performs a web search using the Tavily API and returns the context string.\n",
    "\n",
    "    Parameters:\n",
    "    - query (str): The search query.\n",
    "\n",
    "    Returns:\n",
    "    - str: The context string from the Tavily API or an error message.\n",
    "    \"\"\"\n",
    "    try:\n",
    "        # Step 1: Instantiate the TavilyClient\n",
    "        tavily_client = TavilyClient(api_key=os.environ[\"TAVILY_API_KEY\"])\n",
    "\n",
    "        # Step 2: Execute the search query\n",
    "        context = tavily_client.get_search_context(query=query)\n",
    "\n",
    "        # Step 3: Return the context\n",
    "        return f\"**Web Search Context:**\\n{context}\"\n",
    "    except Exception as e:\n",
    "        return f\"Error performing web search: {str(e)}\"\n",
    "\n",
    "# define sample Tool\n",
    "def multiply(a: int, b: int) -> int:\n",
    "    \"\"\"Multiple two integers and returns the result integer\"\"\"\n",
    "    return a * b\n",
    "\n",
    "web_search_tool = FunctionTool.from_defaults(fn=web_search)\n",
    "multiply_tool = FunctionTool.from_defaults(fn=multiply)\n",
    "\n",
    "# initialize llm\n",
    "llm = Ollama(model=\"llama3\", temperature=0, format=\"json\")\n",
    "\n",
    "# initialize ReAct agent\n",
    "agent = ReActAgent.from_tools([multiply_tool, web_search_tool], llm=llm, verbose=True,\n",
    "                             max_iterations=5)"
   ]
  },
  {
   "cell_type": "code",
   "execution_count": 16,
   "id": "00f6094b-470a-4e6f-a4fe-b168ed1a3aa2",
   "metadata": {},
   "outputs": [
    {
     "name": "stdout",
     "output_type": "stream",
     "text": [
      "> Running step f98d65b2-78b7-4cd9-8b2b-0d11dbb60d44. Step input: What is a good restaurant in Rio Rancho, NM? Include hyperlinks in your response.\n",
      "\u001b[1;3;38;5;200mThought: The current language of the user is English. I need to use a tool to help me answer the question.\n",
      "Action: web_search\n",
      "Action Input: {'query': 'best restaurants in Rio Rancho, NM'}\n",
      "\u001b[0m\u001b[1;3;34mObservation: **Web Search Context:**\n",
      "\"[\\\"{\\\\\\\"url\\\\\\\": \\\\\\\"https://www.yelp.com/search?cflt=restaurants&find_loc=Rio+Rancho,+NM\\\\\\\", \\\\\\\"content\\\\\\\": \\\\\\\"These are the best restaurants with outdoor seating in Rio Rancho, NM: M'tucci's Moderno. Whiptail. Turtle Mountain Brewing - South. The Range Caf\\\\\\\\u00e9. Namaste. People also liked: Restaurants For Lunch. Best Restaurants in Rio Rancho, NM - Whiptail, Upscale Rio, Restaurant Forty Nine Forty, Fuego 505, Lily and Liam Bistro, Dagmar's Strudel House\\\\\\\"}\\\", \\\"{\\\\\\\"url\\\\\\\": \\\\\\\"https://www.yelp.com/search?find_desc=restaurants&find_loc=Rio+Rancho,+NM\\\\\\\", \\\\\\\"content\\\\\\\": \\\\\\\"Top 10 Best Restaurants in Rio Rancho, NM - October 2024 - Yelp - Whiptail, Upscale Rio, Restaurant Forty Nine Forty, Fuego 505, Joe's Pasta House, Alquds Mediterranean Grill 2, Turtle Mountain Brewing - South, M'tucci's Moderno, Tap N Taco, Dagmar's Strudel House\\\\\\\"}\\\", \\\"{\\\\\\\"url\\\\\\\": \\\\\\\"https://www.yelp.com/search?cflt=restaurants&find_loc=Rio+Rancho,+NM+87144\\\\\\\", \\\\\\\"content\\\\\\\": \\\\\\\"People also liked: Restaurants For Lunch. Best Restaurants in Rio Rancho, NM 87144 - Whiptail, Joe's Pasta House, Love At-First Slice, Turtle Mountain Brewing - South, Big Boss Hotlinks, K'Lynn's Southern & Cajun Fusion, Pho Bar, Saigon 2, Palle Di Pancia, Nori Ramen & Sushi Bar.\\\\\\\"}\\\", \\\"{\\\\\\\"url\\\\\\\": \\\\\\\"https://www.opentable.com/features/best-lunch-restaurants-new-mexico-rio-rancho?lang=en-us\\\\\\\", \\\\\\\"content\\\\\\\": \\\\\\\"Best Lunch Restaurants in Rio Rancho. 1. El Pinto. El Pinto is open for outdoor covered patio dining and indoor seating.Open daily. Monday through Thursday from 11am-9pm. Friday & Saturday 11am-10pm. Sunday 10:30am-9pm.Nestled in the cottonwoods, El Pinto was founded with 10 tables in 1962. Twin brothers John and Jim Thomas, carry on the family\\\\\\\"}\\\", \\\"{\\\\\\\"url\\\\\\\": \\\\\\\"https://www.restaurantji.com/nm/rio-rancho/\\\\\\\", \\\\\\\"content\\\\\\\": \\\\\\\"We've gathered up the best places to eat in Rio Rancho. Our current favorites are: 1: M'tucci's Moderno, 2: Brew Lab 101 Beer & Cider Co., 3: Slate Street Billiards, 4: O Sushi, 5: Squeezed Juice Bar - Rio Rancho.\\\\\\\"}\\\"]\"\n",
      "\u001b[0m> Running step c1063bcf-c759-4287-b093-eae0b987b9ea. Step input: None\n",
      "\u001b[1;3;38;5;200mThought: I can answer without using any more tools. I'll use the user's language to answer.\n",
      "Answer: Based on the web search context, some popular restaurants in Rio Rancho, NM include M'tucci's Moderno, Whiptail, Turtle Mountain Brewing - South, The Range CafÃ, and Namaste. Additionally, OpenTable recommends El Pinto as one of the best lunch restaurants in Rio Rancho. Restaurantji also lists M'tucci's Moderno, Brew Lab 101 Beer & Cider Co., Slate Street Billiards, O Sushi, and Squeezed Juice Bar - Rio Rancho as some of their current favorites.\n",
      "\u001b[0m"
     ]
    }
   ],
   "source": [
    "response = agent.chat(\"What is a good restaurant in Rio Rancho, NM? Include hyperlinks in your response.\")"
   ]
  },
  {
   "cell_type": "code",
   "execution_count": 17,
   "id": "95d28f3c-5635-49bf-a842-9a8de1546c36",
   "metadata": {},
   "outputs": [
    {
     "name": "stdout",
     "output_type": "stream",
     "text": [
      "Based on the web search context, some popular restaurants in Rio Rancho, NM include M'tucci's Moderno, Whiptail, Turtle Mountain Brewing - South, The Range CafÃ, and Namaste. Additionally, OpenTable recommends El Pinto as one of the best lunch restaurants in Rio Rancho. Restaurantji also lists M'tucci's Moderno, Brew Lab 101 Beer & Cider Co., Slate Street Billiards, O Sushi, and Squeezed Juice Bar - Rio Rancho as some of their current favorites.\n"
     ]
    }
   ],
   "source": [
    "print(response)"
   ]
  },
  {
   "cell_type": "code",
   "execution_count": null,
   "id": "28dc4d8d-2ba4-4ddb-bbe0-45bb22dbd990",
   "metadata": {},
   "outputs": [],
   "source": []
  }
 ],
 "metadata": {
  "kernelspec": {
   "display_name": "Python 3 (ipykernel)",
   "language": "python",
   "name": "python3"
  },
  "language_info": {
   "codemirror_mode": {
    "name": "ipython",
    "version": 3
   },
   "file_extension": ".py",
   "mimetype": "text/x-python",
   "name": "python",
   "nbconvert_exporter": "python",
   "pygments_lexer": "ipython3",
   "version": "3.12.7"
  }
 },
 "nbformat": 4,
 "nbformat_minor": 5
}
