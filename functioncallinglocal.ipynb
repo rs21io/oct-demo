{
 "cells": [
  {
   "cell_type": "code",
   "execution_count": 1,
   "id": "8f77c18b-14d6-4326-8235-8cf7398b04fa",
   "metadata": {},
   "outputs": [
    {
     "data": {
      "text/plain": [
       "True"
      ]
     },
     "execution_count": 1,
     "metadata": {},
     "output_type": "execute_result"
    }
   ],
   "source": [
    "from dotenv import load_dotenv\n",
    "import os\n",
    "load_dotenv()"
   ]
  },
  {
   "cell_type": "markdown",
   "id": "a1b5e194-bf32-49da-ab4e-88164f086677",
   "metadata": {},
   "source": [
    "See the discussion here:\n",
    "\n",
    "https://github.com/run-llama/llama_index/discussions/13431\n",
    "\n",
    "You should use ReactAgentWorker - the function calling agent worker is only for LLMs with a specific API built-in for tool calling (this includes openai, anthropic, and mistral)\n",
    "\n"
   ]
  },
  {
   "cell_type": "code",
   "execution_count": 8,
   "id": "51bad475-c007-4706-b53d-a566fe461d47",
   "metadata": {},
   "outputs": [],
   "source": [
    "from llama_index.core.tools import FunctionTool\n",
    "from llama_index.llms.ollama import Ollama\n",
    "from llama_index.core.agent import ReActAgent\n",
    "\n",
    "\n",
    "# define sample Tool\n",
    "def multiply(a: int, b: int) -> int:\n",
    "    \"\"\"Multiple two integers and returns the result integer\"\"\"\n",
    "    return a * b\n",
    "\n",
    "\n",
    "multiply_tool = FunctionTool.from_defaults(fn=multiply)\n",
    "\n",
    "# initialize llm\n",
    "llm = Ollama(model=\"llama3\", temperature=0, format=\"json\")\n",
    "\n",
    "# initialize ReAct agent\n",
    "agent = ReActAgent.from_tools([multiply_tool], llm=llm, verbose=True,\n",
    "                             max_iterations=5)"
   ]
  },
  {
   "cell_type": "code",
   "execution_count": 9,
   "id": "00f6094b-470a-4e6f-a4fe-b168ed1a3aa2",
   "metadata": {},
   "outputs": [
    {
     "name": "stdout",
     "output_type": "stream",
     "text": [
      "> Running step a1c30d37-b427-4956-9c38-0ffcece6344b. Step input: What is 242462546 * 3987109384710923874\n",
      "\u001b[1;3;38;5;200mThought: The current language of the user is not specified. I need to use a tool to help me answer the question.\n",
      "Action: multiply\n",
      "Action Input: {'a': 242462546, 'b': 3987109384710923874}\n",
      "\u001b[0m\u001b[1;3;34mObservation: 966724692597504076502223204\n",
      "\u001b[0m> Running step e9d38216-6556-4c83-a720-dc8054240bd2. Step input: None\n",
      "\u001b[1;3;38;5;200mThought: I can answer without using any more tools. I'll use the user's language to answer\n",
      "Answer: 966724692597504076502223204\n",
      "\u001b[0m"
     ]
    }
   ],
   "source": [
    "response = agent.chat(\"What is 242462546 * 3987109384710923874\")"
   ]
  },
  {
   "cell_type": "code",
   "execution_count": 10,
   "id": "95d28f3c-5635-49bf-a842-9a8de1546c36",
   "metadata": {},
   "outputs": [
    {
     "name": "stdout",
     "output_type": "stream",
     "text": [
      "966724692597504076502223204\n"
     ]
    }
   ],
   "source": [
    "print(response)"
   ]
  },
  {
   "cell_type": "code",
   "execution_count": null,
   "id": "28dc4d8d-2ba4-4ddb-bbe0-45bb22dbd990",
   "metadata": {},
   "outputs": [],
   "source": []
  }
 ],
 "metadata": {
  "kernelspec": {
   "display_name": "Python 3 (ipykernel)",
   "language": "python",
   "name": "python3"
  },
  "language_info": {
   "codemirror_mode": {
    "name": "ipython",
    "version": 3
   },
   "file_extension": ".py",
   "mimetype": "text/x-python",
   "name": "python",
   "nbconvert_exporter": "python",
   "pygments_lexer": "ipython3",
   "version": "3.12.7"
  }
 },
 "nbformat": 4,
 "nbformat_minor": 5
}
