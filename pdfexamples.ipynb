{
 "cells": [
  {
   "cell_type": "markdown",
   "id": "faf9b896-80a0-4af1-89ed-1c586a92ec16",
   "metadata": {},
   "source": [
    "https://www.gradio.app/guides/pdf-component-example"
   ]
  },
  {
   "cell_type": "markdown",
   "id": "29d49e4d-21c0-4599-bfa7-f6beb39d48cf",
   "metadata": {},
   "source": [
    "# Case Study:A Component to Display PDFs\n",
    "\n"
   ]
  },
  {
   "cell_type": "code",
   "execution_count": 1,
   "id": "19605f19-3c0a-4bf0-9b88-20837b0536f1",
   "metadata": {},
   "outputs": [],
   "source": [
    "import gradio as gr\n",
    "from gradio_pdf import PDF\n",
    "\n"
   ]
  },
  {
   "cell_type": "code",
   "execution_count": 3,
   "id": "a7355c6a-fac9-4421-8a61-da9efce7460d",
   "metadata": {},
   "outputs": [
    {
     "data": {
      "text/plain": [
       "'/home/davidd/2024/oct-demo'"
      ]
     },
     "execution_count": 3,
     "metadata": {},
     "output_type": "execute_result"
    }
   ],
   "source": [
    "import os\n",
    "os.getcwd()"
   ]
  },
  {
   "cell_type": "code",
   "execution_count": 5,
   "id": "4581faa3-1875-4cb1-9410-969457163949",
   "metadata": {},
   "outputs": [
    {
     "name": "stdout",
     "output_type": "stream",
     "text": [
      "Running on local URL:  http://127.0.0.1:7862\n",
      "\n",
      "To create a public link, set `share=True` in `launch()`.\n"
     ]
    },
    {
     "data": {
      "text/html": [
       "<div><iframe src=\"http://127.0.0.1:7862/\" width=\"100%\" height=\"500\" allow=\"autoplay; camera; microphone; clipboard-read; clipboard-write;\" frameborder=\"0\" allowfullscreen></iframe></div>"
      ],
      "text/plain": [
       "<IPython.core.display.HTML object>"
      ]
     },
     "metadata": {},
     "output_type": "display_data"
    },
    {
     "data": {
      "text/plain": []
     },
     "execution_count": 5,
     "metadata": {},
     "output_type": "execute_result"
    }
   ],
   "source": [
    "import gradio as gr\n",
    "from gradio_pdf import PDF  # Ensure you have installed gradio_pdf\n",
    "import os\n",
    "\n",
    "# Define the directory containing the PDFs\n",
    "PDF_DIR = \"usedpdfs\"  # Replace with your directory path\n",
    "\n",
    "# Ensure the PDF_DIR exists\n",
    "if not os.path.isdir(PDF_DIR):\n",
    "    raise ValueError(f\"The directory '{PDF_DIR}' does not exist. Please check the path.\")\n",
    "\n",
    "# Get list of PDF files in the directory\n",
    "pdf_files = [f for f in os.listdir(PDF_DIR) if f.lower().endswith('.pdf')]\n",
    "\n",
    "# Check if there are PDF files in the directory\n",
    "if not pdf_files:\n",
    "    raise ValueError(f\"No PDF files found in the directory '{PDF_DIR}'.\")\n",
    "\n",
    "def display_pdf(selected_file):\n",
    "    \"\"\"\n",
    "    Given the selected file name, return the full path to display in the PDF viewer.\n",
    "    \"\"\"\n",
    "    file_path = os.path.join(PDF_DIR, selected_file)\n",
    "    return file_path\n",
    "\n",
    "# Build the Gradio interface\n",
    "with gr.Blocks() as demo:\n",
    "    gr.Markdown(\"# 📄 PDF Viewer App\")\n",
    "    gr.Markdown(\"Select a PDF from the dropdown below to view it.\")\n",
    "\n",
    "    with gr.Row():\n",
    "        dropdown = gr.Dropdown(\n",
    "            choices=pdf_files,\n",
    "            label=\"Select a PDF\",\n",
    "            value=pdf_files[0]  # Set a default value\n",
    "        )\n",
    "        pdf_viewer = PDF(label=\"PDF Viewer\", interactive=True)\n",
    "\n",
    "    # Set up the event: when dropdown changes, update the PDF viewer\n",
    "    dropdown.change(\n",
    "        fn=display_pdf,\n",
    "        inputs=dropdown,\n",
    "        outputs=pdf_viewer\n",
    "    )\n",
    "\n",
    "# Launch the app\n",
    "demo.launch()"
   ]
  },
  {
   "cell_type": "code",
   "execution_count": 6,
   "id": "057774b6-7987-4a86-a953-c5d8b9752324",
   "metadata": {},
   "outputs": [
    {
     "name": "stdout",
     "output_type": "stream",
     "text": [
      "Running on local URL:  http://127.0.0.1:7863\n",
      "\n",
      "To create a public link, set `share=True` in `launch()`.\n"
     ]
    },
    {
     "data": {
      "text/html": [
       "<div><iframe src=\"http://127.0.0.1:7863/\" width=\"100%\" height=\"500\" allow=\"autoplay; camera; microphone; clipboard-read; clipboard-write;\" frameborder=\"0\" allowfullscreen></iframe></div>"
      ],
      "text/plain": [
       "<IPython.core.display.HTML object>"
      ]
     },
     "metadata": {},
     "output_type": "display_data"
    },
    {
     "data": {
      "text/plain": []
     },
     "execution_count": 6,
     "metadata": {},
     "output_type": "execute_result"
    }
   ],
   "source": [
    "import gradio as gr\n",
    "from gradio_pdf import PDF  # Ensure you have installed gradio_pdf\n",
    "import os\n",
    "\n",
    "# Define the directory containing the PDFs\n",
    "PDF_DIR = \"usedpdfs\"  # Replace with your directory path\n",
    "\n",
    "# Ensure the PDF_DIR exists\n",
    "if not os.path.isdir(PDF_DIR):\n",
    "    raise ValueError(f\"The directory '{PDF_DIR}' does not exist. Please check the path.\")\n",
    "\n",
    "# Get list of PDF files in the directory\n",
    "pdf_files = [f for f in os.listdir(PDF_DIR) if f.lower().endswith('.pdf')]\n",
    "\n",
    "# Check if there are PDF files in the directory\n",
    "if not pdf_files:\n",
    "    raise ValueError(f\"No PDF files found in the directory '{PDF_DIR}'.\")\n",
    "\n",
    "def display_pdf(selected_file):\n",
    "    \"\"\"\n",
    "    Given the selected file name, return the full path to display in the PDF viewer.\n",
    "    \"\"\"\n",
    "    file_path = os.path.join(PDF_DIR, selected_file)\n",
    "    return file_path\n",
    "\n",
    "# Build the Gradio interface\n",
    "with gr.Blocks() as demo:\n",
    "    gr.Markdown(\"# 📄 PDF Viewer App\")\n",
    "    gr.Markdown(\"Select a PDF from the dropdown below to view it.\")\n",
    "\n",
    "    with gr.Accordion(\"Open PDF Selection\", open=False):\n",
    "        with gr.Row():\n",
    "            dropdown = gr.Dropdown(\n",
    "                choices=pdf_files,\n",
    "                label=\"Select a PDF\",\n",
    "                value=pdf_files[0]  # Set a default value\n",
    "            )\n",
    "            pdf_viewer = PDF(label=\"PDF Viewer\", interactive=True)\n",
    "\n",
    "        # Set up the event: when dropdown changes, update the PDF viewer\n",
    "        dropdown.change(\n",
    "            fn=display_pdf,\n",
    "            inputs=dropdown,\n",
    "            outputs=pdf_viewer\n",
    "        )\n",
    "\n",
    "# Launch the app\n",
    "demo.launch()"
   ]
  },
  {
   "cell_type": "code",
   "execution_count": 9,
   "id": "6f2f7b31-c6f5-4fa7-b28a-0e756db73b90",
   "metadata": {},
   "outputs": [
    {
     "name": "stdout",
     "output_type": "stream",
     "text": [
      "Running on local URL:  http://127.0.0.1:7864\n",
      "\n",
      "To create a public link, set `share=True` in `launch()`.\n"
     ]
    },
    {
     "data": {
      "text/html": [
       "<div><iframe src=\"http://127.0.0.1:7864/\" width=\"100%\" height=\"500\" allow=\"autoplay; camera; microphone; clipboard-read; clipboard-write;\" frameborder=\"0\" allowfullscreen></iframe></div>"
      ],
      "text/plain": [
       "<IPython.core.display.HTML object>"
      ]
     },
     "metadata": {},
     "output_type": "display_data"
    },
    {
     "data": {
      "text/plain": []
     },
     "execution_count": 9,
     "metadata": {},
     "output_type": "execute_result"
    }
   ],
   "source": [
    "import gradio as gr\n",
    "from gradio_pdf import PDF  # Ensure you have installed gradio_pdf\n",
    "import os\n",
    "\n",
    "# Define the directory containing the PDFs\n",
    "PDF_DIR = \"usedpdfs\"  # Replace with your directory path\n",
    "\n",
    "# Ensure the PDF_DIR exists\n",
    "if not os.path.isdir(PDF_DIR):\n",
    "    raise ValueError(f\"The directory '{PDF_DIR}' does not exist. Please check the path.\")\n",
    "\n",
    "# Get list of PDF files in the directory\n",
    "pdf_files = [f for f in os.listdir(PDF_DIR) if f.lower().endswith('.pdf')]\n",
    "\n",
    "# Check if there are PDF files in the directory\n",
    "if not pdf_files:\n",
    "    raise ValueError(f\"No PDF files found in the directory '{PDF_DIR}'.\")\n",
    "\n",
    "def display_pdf(selected_file):\n",
    "    \"\"\"\n",
    "    Given the selected file name, return the full path to display in the PDF viewer.\n",
    "    \"\"\"\n",
    "    file_path = os.path.join(PDF_DIR, selected_file)\n",
    "    return file_path\n",
    "\n",
    "# Build the Gradio interface\n",
    "with gr.Blocks() as demo:\n",
    "    gr.Markdown(\"# 📄 PDF Viewer App\")\n",
    "    gr.Markdown(\"Select a PDF from the dropdown below to view it.\")\n",
    "    \n",
    "    with gr.Accordion(\"Open PDF Selection\", open=False):\n",
    "        with gr.Row():\n",
    "            # Assign a larger scale to the dropdown\n",
    "            dropdown = gr.Dropdown(\n",
    "                choices=pdf_files,\n",
    "                label=\"Select a PDF\",\n",
    "                value=pdf_files[0],  # Set a default value\n",
    "                scale=1  # This component takes twice the space\n",
    "            )\n",
    "            # Assign a smaller scale to the PDF viewer\n",
    "            pdf_viewer = PDF(\n",
    "                label=\"PDF Viewer\",\n",
    "                interactive=True,\n",
    "                scale=3 # This component takes half the space compared to dropdown\n",
    "            )\n",
    "    \n",
    "        # Set up the event: when dropdown changes, update the PDF viewer\n",
    "        dropdown.change(\n",
    "            fn=display_pdf,\n",
    "            inputs=dropdown,\n",
    "            outputs=pdf_viewer\n",
    "        )\n",
    "\n",
    "# Launch the app\n",
    "demo.launch()"
   ]
  },
  {
   "cell_type": "markdown",
   "id": "2d36ca76-4fc9-4642-bb9d-a22b0306e1f2",
   "metadata": {},
   "source": [
    "https://github.com/run-llama/llama_index/blob/main/llama-index-integrations/tools/llama-index-tools-tavily-research/examples/tavily.ipynb"
   ]
  },
  {
   "cell_type": "code",
   "execution_count": 1,
   "id": "fbc0f71d-0c20-4d57-b19f-d92f8ddf9840",
   "metadata": {},
   "outputs": [
    {
     "data": {
      "text/plain": [
       "True"
      ]
     },
     "execution_count": 1,
     "metadata": {},
     "output_type": "execute_result"
    }
   ],
   "source": [
    "from dotenv import load_dotenv\n",
    "import os\n",
    "\n",
    "# Add these imports\n",
    "from threading import Thread\n",
    "import queue\n",
    "from openai import AssistantEventHandler\n",
    "from typing_extensions import override\n",
    "\n",
    "load_dotenv()"
   ]
  },
  {
   "cell_type": "code",
   "execution_count": 3,
   "id": "6fbf6f23-aa7e-4e38-8792-2de7ba4c12c0",
   "metadata": {},
   "outputs": [],
   "source": [
    "# Set up OpenAI\n",
    "#import openai\n",
    "#from llama_index.agent import OpenAIAgent\n",
    "\n",
    "from llama_index.agent.openai import OpenAIAgent\n",
    "from llama_index.llms.openai import OpenAI"
   ]
  },
  {
   "cell_type": "markdown",
   "id": "9b8b05bc-52aa-4115-b8bd-65545b8ba752",
   "metadata": {},
   "source": [
    "https://docs.llamaindex.ai/en/stable/examples/agent/openai_agent/"
   ]
  },
  {
   "cell_type": "code",
   "execution_count": 4,
   "id": "1dfbfab8-43bc-461b-bdca-8c08de5f34a4",
   "metadata": {},
   "outputs": [],
   "source": [
    "import json\n",
    "from typing import Sequence, List\n",
    "\n",
    "from llama_index.llms.openai import OpenAI\n",
    "from llama_index.core.llms import ChatMessage\n",
    "from llama_index.core.tools import BaseTool, FunctionTool\n",
    "from openai.types.chat import ChatCompletionMessageToolCall\n",
    "\n",
    "import nest_asyncio\n",
    "\n",
    "nest_asyncio.apply()"
   ]
  },
  {
   "cell_type": "code",
   "execution_count": 5,
   "id": "7e9b2250-09c4-4dc2-abb2-826301bae447",
   "metadata": {},
   "outputs": [],
   "source": [
    "def multiply(a: int, b: int) -> int:\n",
    "    \"\"\"Multiple two integers and returns the result integer\"\"\"\n",
    "    return a * b\n",
    "\n",
    "\n",
    "multiply_tool = FunctionTool.from_defaults(fn=multiply)"
   ]
  },
  {
   "cell_type": "code",
   "execution_count": 6,
   "id": "ad6ca3a3-d438-4e23-8876-cf5c8c3bdcb3",
   "metadata": {},
   "outputs": [],
   "source": [
    "def add(a: int, b: int) -> int:\n",
    "    \"\"\"Add two integers and returns the result integer\"\"\"\n",
    "    return a + b\n",
    "\n",
    "\n",
    "add_tool = FunctionTool.from_defaults(fn=add)"
   ]
  },
  {
   "cell_type": "code",
   "execution_count": 9,
   "id": "9084dacc-487b-47e8-8c8f-c42b3eec887b",
   "metadata": {},
   "outputs": [],
   "source": [
    "llm = OpenAI(model=\"gpt-4o-mini\")\n",
    "agent = OpenAIAgent.from_tools(\n",
    "    [multiply_tool, add_tool], llm=llm, verbose=True\n",
    ")"
   ]
  },
  {
   "cell_type": "code",
   "execution_count": 10,
   "id": "aa998902-ba04-4d9f-a065-7f48a71430b3",
   "metadata": {},
   "outputs": [
    {
     "name": "stdout",
     "output_type": "stream",
     "text": [
      "Added user message to memory: What is (121 * 3) + 42?\n",
      "=== Calling Function ===\n",
      "Calling function: multiply with args: {\"a\": 121, \"b\": 3}\n",
      "Got output: 363\n",
      "========================\n",
      "\n",
      "=== Calling Function ===\n",
      "Calling function: add with args: {\"a\": 42, \"b\": 0}\n",
      "Got output: 42\n",
      "========================\n",
      "\n",
      "=== Calling Function ===\n",
      "Calling function: add with args: {\"a\":363,\"b\":42}\n",
      "Got output: 405\n",
      "========================\n",
      "\n",
      "The result of \\( (121 \\times 3) + 42 \\) is 405.\n"
     ]
    }
   ],
   "source": [
    "response = agent.chat(\"What is (121 * 3) + 42?\")\n",
    "print(str(response))"
   ]
  },
  {
   "cell_type": "code",
   "execution_count": 11,
   "id": "49da8be1-d448-4846-9f49-b792c466ea8b",
   "metadata": {},
   "outputs": [
    {
     "name": "stdout",
     "output_type": "stream",
     "text": [
      "Added user message to memory: What is 121 * 3?\n",
      "=== Calling Function ===\n",
      "Calling function: multiply with args: {\"a\":121,\"b\":3}\n",
      "Got output: 363\n",
      "========================\n",
      "\n",
      "The result of \\( 121 \\times 3 \\) is 363.\n"
     ]
    }
   ],
   "source": [
    "response = await agent.achat(\"What is 121 * 3?\")\n",
    "print(str(response))"
   ]
  },
  {
   "cell_type": "code",
   "execution_count": 12,
   "id": "3da3c554-cfa5-4199-a4a9-8af9aaf98f08",
   "metadata": {},
   "outputs": [
    {
     "name": "stdout",
     "output_type": "stream",
     "text": [
      "Added user message to memory: What is 121 * 2? Once you have the answer, use that number to write a story about a group of mice.\n",
      "=== Calling Function ===\n",
      "Calling function: multiply with args: {\"a\":121,\"b\":2}\n",
      "Got output: 242\n",
      "========================\n",
      "\n",
      "Once upon a time in a cozy little village, there lived a group of 242 adventurous mice. They were known as the \"Whisker Warriors,\" and they had a reputation for their bravery and cleverness. The leader of the group was a wise old mouse named Sir Nibbles, who always had a plan for their next adventure.\n",
      "\n",
      "One sunny morning, Sir Nibbles gathered all the mice in the village square. \"My dear friends,\" he squeaked, \"today we embark on a quest to find the legendary Cheese Mountain, said to be filled with the finest cheeses in the land!\"\n",
      "\n",
      "Excitement buzzed through the crowd of 242 mice. They packed their tiny backpacks with crumbs and set off on their journey. As they traveled through fields and forests, they encountered various challenges. They crossed a bubbling brook by forming a bridge with their bodies, and they climbed steep hills by encouraging each other with cheerful squeaks.\n",
      "\n",
      "After a long day of travel, the Whisker Warriors finally reached the foot of Cheese Mountain. The sight was breathtaking! The mountain was covered in all kinds of cheese—cheddar, gouda, and even blue cheese! The mice cheered and danced in delight.\n",
      "\n",
      "However, they soon realized that the mountain was guarded by a grumpy old cat named Whiskers. He had been tasked with protecting the cheese from any intruders. The mice knew they had to be clever to outsmart Whiskers.\n",
      "\n",
      "Sir Nibbles devised a plan. They would create a distraction while a few brave mice snuck around to gather the cheese. The Whisker Warriors worked together, squeaking and scurrying in different directions to confuse the cat. Whiskers, bewildered by the sudden chaos, chased after the mice, giving the others the perfect opportunity to collect as much cheese as they could.\n",
      "\n",
      "With their tiny backpacks filled with delicious cheese, the Whisker Warriors made their way back home, victorious and proud. They celebrated their success with a grand feast, sharing the cheese with all the mice in the village.\n",
      "\n",
      "From that day on, the legend of the Whisker Warriors and their daring adventure to Cheese Mountain spread far and wide, inspiring mice everywhere to be brave and work together. And so, the village of 242 mice lived happily ever after, always ready for their next adventure."
     ]
    }
   ],
   "source": [
    "response = agent.stream_chat(\n",
    "    \"What is 121 * 2? Once you have the answer, use that number to write a\"\n",
    "    \" story about a group of mice.\"\n",
    ")\n",
    "\n",
    "response_gen = response.response_gen\n",
    "\n",
    "for token in response_gen:\n",
    "    print(token, end=\"\")"
   ]
  },
  {
   "cell_type": "code",
   "execution_count": 13,
   "id": "3b18e87d-0c55-472a-b443-788ae811e259",
   "metadata": {},
   "outputs": [
    {
     "name": "stdout",
     "output_type": "stream",
     "text": [
      "Added user message to memory: What is 121 + 8? Once you have the answer, use that number to write a story about a group of mice.\n",
      "=== Calling Function ===\n",
      "Calling function: add with args: {\"a\":121,\"b\":8}\n",
      "Got output: 129\n",
      "========================\n",
      "\n",
      "Once upon a time in a bustling little town, there lived a group of 129 cheerful mice known as the \"Cheese Chasers.\" They were famous for their love of adventure and, of course, their insatiable appetite for cheese. The leader of the Cheese Chasers was a clever mouse named Bella, who always had a new idea for their next escapade.\n",
      "\n",
      "One bright morning, Bella gathered all 129 mice in the town square. \"Listen up, my friends!\" she squeaked excitedly. \"Today, we are going to explore the Great Cheese Factory on the other side of the meadow! I hear it’s filled with the most delicious cheeses you can imagine!\"\n",
      "\n",
      "The mice squeaked in delight, their tiny tails twitching with excitement. They packed their little bags with snacks and set off on their adventure. As they scampered through the meadow, they encountered a variety of obstacles. They had to navigate through tall grass, cross a small stream, and even climb over a fallen log.\n",
      "\n",
      "When they finally reached the Great Cheese Factory, their eyes widened in amazement. The factory was enormous, with cheese wheels stacked high and the delightful aroma of fresh cheese wafting through the air. However, they soon realized that the factory was guarded by a big, sleepy dog named Bruno, who lay sprawled across the entrance.\n",
      "\n",
      "Bella knew they had to be clever to get past Bruno. She whispered her plan to the other mice. \"We’ll create a diversion! While some of us distract Bruno, the rest can sneak inside and grab the cheese!\"\n",
      "\n",
      "The Cheese Chasers sprang into action. A group of brave mice began to squeak loudly and dance around Bruno, drawing his attention. Meanwhile, the rest of the mice quietly slipped past the dog and into the factory.\n",
      "\n",
      "Inside, they were in cheese heaven! There were wheels of cheddar, blocks of gouda, and even strings of mozzarella hanging from the ceiling. The mice quickly filled their bags with as much cheese as they could carry.\n",
      "\n",
      "Just as they were about to leave, they heard a loud bark from Bruno. The distraction had worked too well, and he was now awake and looking for the source of the noise! The mice quickly scurried back outside, cheese in tow, and joined their friends in the diversion.\n",
      "\n",
      "With a final squeak of triumph, the Cheese Chasers dashed away from the factory, leaving Bruno confused and still half-asleep. They celebrated their successful adventure with a grand feast in the meadow, sharing the delicious cheese with one another.\n",
      "\n",
      "From that day on, the story of the 129 Cheese Chasers and their daring escapade at the Great Cheese Factory became a beloved tale in their town, inspiring mice everywhere to be brave, clever, and always ready for a new adventure. And so, they lived happily ever after, always dreaming of their next cheesy quest."
     ]
    }
   ],
   "source": [
    "response = await agent.astream_chat(\n",
    "    \"What is 121 + 8? Once you have the answer, use that number to write a\"\n",
    "    \" story about a group of mice.\"\n",
    ")\n",
    "\n",
    "response_gen = response.response_gen\n",
    "\n",
    "async for token in response.async_response_gen():\n",
    "    print(token, end=\"\")"
   ]
  },
  {
   "cell_type": "markdown",
   "id": "858769c2-aca3-4d8a-b551-943d33b15523",
   "metadata": {},
   "source": [
    "https://github.com/run-llama/llama_index/blob/main/llama-index-integrations/tools/llama-index-tools-tavily-research/examples/tavily.ipynb"
   ]
  },
  {
   "cell_type": "markdown",
   "id": "bfa2ec1a-17d0-4b10-b77c-b08aaf2f0b39",
   "metadata": {},
   "source": [
    "#from llama_index.tools.graphql.base import GraphQLToolSpec\n",
    "#from llama_index.agent.openai.base import OpenAIAgent\n",
    "\n",
    "\n",
    "Let's check what tavily-python does\n"
   ]
  },
  {
   "cell_type": "code",
   "execution_count": 17,
   "id": "d7d492f5-749c-4c50-a632-9b918de616cf",
   "metadata": {},
   "outputs": [
    {
     "name": "stdout",
     "output_type": "stream",
     "text": [
      "{'query': 'Who is Leo Messi?', 'follow_up_questions': None, 'answer': None, 'images': [], 'results': [{'title': 'Lionel Messi Biography - Facts, Childhood, Family Life & Achievements', 'url': 'https://www.thefamouspeople.com/profiles/lionel-messi-5242.php', 'content': \"Lionel Messi is an Argentine former professional footballer counted amongst the best players in the world in football history. The only player in history to win five FIFA Ballons d'Or, he was also the first player to win three European Golden Shoes. During his playing career he shattered many world records and currently holds the records for most goals scored in La Liga, a La Liga season (50 ...\", 'score': 0.99639237, 'raw_content': None}, {'title': 'Lionel Messi | Biography, Competitions, Wins and Medals', 'url': 'https://olympics.com/en/athletes/lionel-messi', 'content': '“The Olympic gold in 2008 is the win that I value the most because it is a tournament that you may play only once in your life and involves many athletes from different disciplines” - Lionel Messi, Spanish Esquire\\nFeatured\\nLatest News\\nOlympic Results\\nAthlete Olympic Results Content\\nYou may like Lionel MESSI\\nBiography\\nBorn in Rosario, Argentina in 1987 Lionel Messi is widely held to be one of the greatest football players of his generation — and with good reason.\\n Graduating quickly through the club’s ranks thanks to his ever-growing skill set Messi made his first senior appearance for the club at the age of 17.\\n When he eventually left the team in 2021 for French club Paris Saint-Germain the Argentine completed his time in La Liga as its top goal-scorer, with an eye-watering 474 successful shots to his name.\\n He also came close to winning the FIFA World Cup in 2014 but Argentina fell to Germany 1-0 in the final.\\n', 'score': 0.9424008, 'raw_content': None}, {'title': \"Lionel Messi | Biography, Barcelona, PSG, Ballon d'Or, Inter Miami ...\", 'url': 'https://www.britannica.com/biography/Lionel-Messi', 'content': 'In early 2009 Messi capped off a spectacular 2008–09 season by helping FC Barcelona capture the club’s first “treble” (winning three major European club titles in one season): the team won the La Liga championship, the Copa del Rey (Spain’s major domestic cup), and the Champions League title. Messi’s play continued to rapidly improve over the years, and by 2008 he was one of the most dominant players in the world, finishing second to Manchester United’s Cristiano Ronaldo in the voting for the 2008 Ballon d’Or. At the 2014 World Cup, Messi put on a dazzling display, scoring four goals and almost single-handedly propelling an offense-deficient Argentina team through the group stage and into the knockout rounds, where Argentina then advanced to the World Cup final for the first time in 24 years. After Argentina was defeated in the Copa final—the team’s third consecutive finals loss in a major tournament—Messi said that he was quitting the national team, but his short-lived “retirement” lasted less than two months before he announced his return to the Argentine team. Messi helped Barcelona capture another treble during the 2014–15 season, leading the team with 43 goals scored over the course of the campaign, which resulted in his fifth world player of the year honour.', 'score': 0.8749346, 'raw_content': None}, {'title': 'Lionel Messi: The life and times of the Barcelona, Paris Saint-Germain ...', 'url': 'https://www.nytimes.com/athletic/4783674/2023/08/18/lionel-messi-profile-soccer/', 'content': 'For Messi, it is major trophy number 44.. Despite turning 36 in June, he is as influential as ever. Here is the complete story of Lionel Andres Messi, widely regarded as one of the greatest ...', 'score': 0.87321484, 'raw_content': None}, {'title': 'Lionel Messi - Wikipedia', 'url': 'https://en.wikipedia.org/wiki/Lionel_Messi', 'content': 'He scored twice in the last group match, a 3–2 victory over Nigeria, his second goal coming from a free kick, as they finished first in their group.[423] Messi assisted a late goal in extra time to ensure a 1–0 win against Switzerland in the round of 16, and played in the 1–0 quarter-final win against Belgium as Argentina progressed to the semi-final of the World Cup for the first time since 1990.[424][425] Following a 0–0 draw in extra time, they eliminated the Netherlands 4–2 in a penalty shootout to reach the final, with Messi scoring his team\\'s first penalty.[426]\\nBilled as Messi versus Germany, the world\\'s best player against the best team, the final was a repeat of the 1990 final featuring Diego Maradona.[427] Within the first half-hour, Messi had started the play that led to a goal, but it was ruled offside. \"[582] Moreover, several pundits and footballing figures, including Maradona, questioned Messi\\'s leadership with Argentina at times, despite his playing ability.[583][584][585] Vickery states the perception of Messi among Argentines changed in 2019, with Messi making a conscious effort to become \"more one of the group, more Argentine\", with Vickery adding that following the World Cup victory in 2022 Messi would now be held in the same esteem by his compatriots as Maradona.[581]\\nComparisons with Cristiano Ronaldo\\nAmong his contemporary peers, Messi is most often compared and contrasted with Portuguese forward Cristiano Ronaldo, as part of an ongoing rivalry that has been compared to past sports rivalries like the Muhammad Ali–Joe Frazier rivalry in boxing, the Roger Federer–Rafael Nadal rivalry in tennis, and the Prost–Senna rivalry from Formula One motor racing.[586][587]\\nAlthough Messi has at times denied any rivalry,[588][589] they are widely believed to push one another in their aim to be the best player in the world.[160] Since 2008, Messi has won eight Ballons d\\'Or to Ronaldo\\'s five,[590] seven FIFA World\\'s Best Player awards to Ronaldo\\'s five, and six European Golden Shoes to Ronaldo\\'s four.[591] Pundits and fans regularly argue the individual merits of both players.[160][592] On 11 July, Messi provided his 20th assist of the league season for Arturo Vidal in a 1–0 away win over Real Valladolid, equalling Xavi\\'s record of 20 assists in a single La Liga season from 2008 to 2009;[281][282] with 22 goals, he also became only the second player ever, after Thierry Henry in the 2002–03 FA Premier League season with Arsenal (24 goals and 20 assists), to record at least 20 goals and 20 assists in a single league season in one of Europe\\'s top-five leagues.[282][283] Following his brace in a 5–0 away win against Alavés in the final match of the season on 20 May, Messi finished the season as both the top scorer and top assist provider in La Liga, with 25 goals and 21 assists respectively, which saw him win his record seventh Pichichi trophy, overtaking Zarra; however, Barcelona missed out on the league title to Real Madrid.[284] On 7 March, two weeks after scoring four goals in a league fixture against Valencia, he scored five times in a Champions League last 16-round match against Bayer Leverkusen, an unprecedented achievement in the history of the competition.[126][127] In addition to being the joint top assist provider with five assists, this feat made him top scorer with 14 goals, tying José Altafini\\'s record from the 1962–63 season, as well as becoming only the second player after Gerd Müller to be top scorer in four campaigns.[128][129] Two weeks later, on 20 March, Messi became the top goalscorer in Barcelona\\'s history at 24 years old, overtaking the 57-year record of César Rodríguez\\'s 232 goals with a hat-trick against Granada.[130]\\nDespite Messi\\'s individual form, Barcelona\\'s four-year cycle of success under Guardiola – one of the greatest eras in the club\\'s history – drew to an end.[131] He still managed to break two longstanding records in a span of seven days: a hat-trick on 16 March against Osasuna saw him overtake Paulino Alcántara\\'s 369 goals to become Barcelona\\'s top goalscorer in all competitions including friendlies, while another hat-trick against Real Madrid on 23 March made him the all-time top scorer in El Clásico, ahead of the 18 goals scored by former Real Madrid player Alfredo Di Stéfano.[160][162] Messi finished the campaign with his worst output in five seasons, though he still managed to score 41 goals in all competitions.[161][163] For the first time in five years, Barcelona ended the season without a major trophy; they were defeated in the Copa del Rey final by Real Madrid and lost the league in the last game to Atlético Madrid, causing Messi to be booed by sections of fans at the Camp Nou.[164]', 'score': 0.8143483, 'raw_content': None}], 'response_time': 1.91}\n"
     ]
    }
   ],
   "source": [
    "from tavily import TavilyClient\n",
    "\n",
    "# Step 1. Instantiating your TavilyClient\n",
    "tavily_client = TavilyClient(api_key=os.environ[\"TAVILY_API_KEY\"])\n",
    "\n",
    "# Step 2. Executing a simple search query\n",
    "response = tavily_client.search(\"Who is Leo Messi?\")\n",
    "\n",
    "# Step 3. That's it! You've done a Tavily Search!\n",
    "print(response)"
   ]
  },
  {
   "cell_type": "markdown",
   "id": "99e732ec-1468-4eb3-b0b9-2e7f2425c172",
   "metadata": {},
   "source": [
    "# Generating context for a RAG application"
   ]
  },
  {
   "cell_type": "code",
   "execution_count": 25,
   "id": "073f8e31-5407-42b3-b4a9-30d919a933cb",
   "metadata": {},
   "outputs": [
    {
     "name": "stdout",
     "output_type": "stream",
     "text": [
      "\"[\\\"{\\\\\\\"url\\\\\\\": \\\\\\\"https://www.aljazeera.com/news/2023/9/3/death-under-investigation-after-storm-flooding-at-burning-man-festival\\\\\\\", \\\\\\\"content\\\\\\\": \\\\\\\"just walked 5 miles in the mud out of burning man with chris rock and a fan picked us up pic.twitter.com/0uxSXLHgY6\\\\\\\\n\\\\\\\\u2014 diplo (@diplo) September 2, 2023\\\\\\\\nVehicle gates will not open for the remainder of the event, which began on August 27 and was scheduled to end on Monday, according to the US Bureau of Land Management, which oversees the Black Rock Desert where the festival is being held.\\\\\\\\n The Pershing County Sheriff\\\\\\\\u2019s Office said the death happened during the event in Black Rock City, but offered few details, declining to reveal the identity of the deceased person or the suspected cause of death, local TV channel KNSD reported.\\\\\\\\n Skip links\\\\\\\\nLive\\\\\\\\nNavigation menu\\\\\\\\nLive\\\\\\\\nDeath at Burning Man investigated in US, thousands stranded by flooding\\\\\\\\nThousands of festivalgoers remain stranded as organisers close vehicular traffic to the festival site following storm flooding in Nevada\\\\\\\\u2019s desert.\\\\\\\\n Authorities in Nevada are investigating a death at the site of the Burning Man festival, where thousands of attendees remained stranded after flooding from storms swept through the Nevada desert in the United States.\\\\\\\\n \\\\\\\\u201cIt is because of this that we are all well-prepared for a weather event like this.\\\\\\\\u201d\\\\\\\\nCelebrity DJ Diplo posted a video to Instagram on Saturday evening showing him and comedian Chris Rock riding in the back of a fan\\\\\\\\u2019s pick-up truck.\\\\\\\"}\\\", \\\"{\\\\\\\"url\\\\\\\": \\\\\\\"https://www.pbs.org/newshour/nation/death-at-burning-man-festival-under-investigation-as-flooding-strands-thousands\\\\\\\", \\\\\\\"content\\\\\\\": \\\\\\\"Photo by Trevor Hughes/USA TODAY NETWORK via REUTERS\\\\\\\\nRelated\\\\\\\\nBy Scott Sonner, Associated Press\\\\\\\\nBy Scott Sonner, Associated Press\\\\\\\\nBy Larisa Epatko\\\\\\\\nGo Deeper\\\\\\\\nAssociated Press\\\\\\\\nAssociated Press\\\\\\\\nSupport Provided By:\\\\\\\\nLearn more\\\\\\\\nSupport PBS NewsHour:\\\\\\\\nEducate your inbox\\\\\\\\nSubscribe to Here\\\\\\\\u2019s the Deal, our politics\\\\\\\\nnewsletter for analysis you won\\\\\\\\u2019t find anywhere\\\\\\\\u00a0else.\\\\\\\\n Associated Press\\\\\\\\nAssociated Press\\\\\\\\nLeave your feedback\\\\\\\\nDeath at Burning Man festival under investigation as flooding strands thousands\\\\\\\\nRENO, Nev. (AP) \\\\\\\\u2014 Authorities in Nevada were investigating a death at the site of the Burning Man festival where thousands of attendees remained stranded Saturday night as flooding from storms swept through the Nevada desert.\\\\\\\\n The Pershing County Sheriff\\\\\\\\u2019s Office said the death happened during the event but offered few details as the investigation continued, including the identity of the deceased person or the suspected cause of death,\\\\\\\\u00a0KNSD-TV reported.\\\\\\\\n Vehicle gates will not open for the remainder of the event, which began on Aug. 27 and was scheduled to end Monday, according to the U.S. Bureau of Land Management, which oversees the Black Rock Desert where the festival is being held.\\\\\\\\n Messages left Saturday afternoon by The Associated Press for both the Bureau of Land Management and the Pershing County Sheriff\\\\\\\\u2019s Office, the agencies that closed the entrance, weren\\\\\\\\u2019t immediately returned.\\\\\\\\n\\\\\\\"}\\\", \\\"{\\\\\\\"url\\\\\\\": \\\\\\\"https://www.cnn.com/2023/09/05/us/burning-man-storms-shelter-exodus-tuesday/index.html\\\\\\\", \\\\\\\"content\\\\\\\": \\\\\\\"CNN values your feedback\\\\\\\\nBurning Man attendees make a mass exodus after a dramatic weekend that left thousands stuck in the Nevada desert\\\\\\\\nThousands of Burning Man attendees finally made their mass exodus after intense rain over the weekend flooded camp sites and filled them with thick, ankle-deep mud \\\\\\\\u2013 stranding more than 70,000 free-spirited revelers as they waited for the Nevada desert city to dry out.\\\\\\\\n Burning Man organizers lift driving ban after heavy rains left the event smothered in mud and trapped thousands\\\\\\\\nThe area was still muddy and parts were still difficult to navigate, organizers warned, and the wait time to leave the city Monday night was about seven hours. Diplo hitchhiked ride out of rain-drenched Burning Man after walking miles 'through the mud' and actually made it to his DC concert\\\\\\\\n\\\\\\\\u201cQuite a wet start to September for much of eastern CA-western NV,\\\\\\\\u201d the National Weather Service in Reno wrote on X. \\\\\\\\u201d \\\\\\\\u201cAs soon as the tents started getting water-logged or unlivable, people in RVs started taking in some of the tenters, so everybody was warm,\\\\\\\\u201d Kaz Qamruddin, who attended the event, told CNN\\\\\\\\u2019s Brianna Keilar Monday.\\\\\\\\n From wood blocks to 'poop buckets,' how Burning Man organizers told festivalgoers to prepare for heavy rain\\\\\\\\nAmong the early departures was music DJ Diplo, who told CNN he walked several miles in the muddy desert Saturday morning along with other celebrities, including Chris Rock, Cindy Crawford, Kaia Gerber and Austin Butler.\\\\\\\"}\\\", \\\"{\\\\\\\"url\\\\\\\": \\\\\\\"https://abcnews.go.com/US/burning-man-flooding-happened-stranded-festivalgoers/story?id=102908331\\\\\\\", \\\\\\\"content\\\\\\\": \\\\\\\"\\\\\\\\\\\\\\\"\\\\\\\\nTop Stories\\\\\\\\nMacy's Thanksgiving Day Parade temporarily halted by pro-Palestinian protesters\\\\\\\\nGuns N' Roses singer Axl Rose accused of alleged 1989 sexual assault by former model\\\\\\\\nFBI: Rainbow Bridge crash, explosion not connected to terrorism\\\\\\\\nToxic chemical spill from Kentucky train derailment forces residents to flee homes\\\\\\\\nHezbollah fires rockets at north Israel after an airstrike kills 5 of the group's senior fighters\\\\\\\\nABC News Live\\\\\\\\n24/7 coverage of breaking news and live events ABC News\\\\\\\\nVideo\\\\\\\\nLive\\\\\\\\nShows\\\\\\\\nElection 2024\\\\\\\\n538\\\\\\\\nStream on\\\\\\\\nBurning Man flooding: What happened to stranded festivalgoers?\\\\\\\\n In response to the unusual weather, event organizers shut down traffic in or out of what is called Black Rock City -- where the festival is held in the desert -- including the local airport.\\\\\\\\n MORE: These US regions will experience scorching temperatures for the remainder of Labor Day weekend\\\\\\\\nOn Sunday, mobile cell trailers to boost cell service and charging stations were placed around the festival grounds amid the recovery efforts, according to organizers.\\\\\\\\n This is typically the driest time of the year for the desert, and it does not take much rain to make the desert floor a mud bath.\\\\\\\\n\\\\\\\"}\\\", \\\"{\\\\\\\"url\\\\\\\": \\\\\\\"https://www.nbcnews.com/news/us-news/live-blog/live-updates-burning-man-flooding-keeps-thousands-stranded-nevada-site-rcna103193\\\\\\\", \\\\\\\"content\\\\\\\": \\\\\\\"Profile\\\\\\\\nSections\\\\\\\\ntv\\\\\\\\nFeatured\\\\\\\\nMore From NBC\\\\\\\\nFollow NBC News\\\\\\\\nnews Alerts\\\\\\\\nThere are no new alerts at this time\\\\\\\\nBurning Man flooding keeps thousands stranded at Nevada site as authorities investigate 1 death\\\\\\\\nBurning Man attendees struggling to get home\\\\\\\\n70,000+ stuck at Burning Man: When will they be able to get out?\\\\\\\\n Thousands still stranded at Burning Man after torrential rain\\\\\\\\nBurning Man revelers unfazed by deluge and deep mud\\\\\\\\nReuters\\\\\\\\nThousands of Burning Man attendees partied hard on Sunday despite downpours that turned the Nevada desert where the annual arts and music festival takes place into a sea of sticky mud and led officials to order the multitudes to shelter in place.\\\\\\\\n Neal Katyal warns hiking in the mud\\\\\\\\ncan be 'worse than walking on ice'\\\\\\\\nDoha Madani\\\\\\\\nNeal Katyal, the former acting U.S. solicitor general, is among the Burning Man attendees who decided to take the risk and hike out of the festival grounds.\\\\\\\\n Videos posted to his Instagram story show Diplo walking through mud before, he says, he hitchhiked to Gerlach and Reno to make a flight to Washington, D.C.\\\\\\\\n\\\\\\\\u201cI just got done DJ\\\\\\\\u2019ing for three hours, after walking f---ing for four hours out of the desert and taking a flight, mud still on my face,\\\\\\\\u201d he said in a video posted to his Instagram story last night.\\\\\\\\n Burning Man memes are swamping social media\\\\\\\\nAngela Yang\\\\\\\\nAs heavy rain turns Burning Man 2023 into a muddy mess, a deluge of unsympathetic jokes has swamped the internet outside Black Rock City, the temporary location built annually for the nine-day festival in the remote desert of Nevada.\\\\\\\\n\\\\\\\"}\\\"]\"\n"
     ]
    }
   ],
   "source": [
    "from tavily import TavilyClient\n",
    "\n",
    "# Step 1. Instantiating your TavilyClient\n",
    "tavily_client = TavilyClient(api_key=os.environ[\"TAVILY_API_KEY\"])\n",
    "\n",
    "# Step 2. Executing a context search query\n",
    "context = tavily_client.get_search_context(query=\"What happened during the Burning Man floods?\")\n",
    "\n",
    "# Step 3. That's it! You now have a context string that you can feed directly into your RAG Application\n",
    "print(context)"
   ]
  },
  {
   "cell_type": "code",
   "execution_count": 26,
   "id": "567c8c9a-d0b5-469b-8014-0e27b98e1bf2",
   "metadata": {},
   "outputs": [
    {
     "name": "stdout",
     "output_type": "stream",
     "text": [
      "\"[\\\"{\\\\\\\"url\\\\\\\": \\\\\\\"https://www.johnsoncontrols.com/building-automation-and-controls\\\\\\\", \\\\\\\"content\\\\\\\": \\\\\\\"At Johnson Controls, our Metasys\\\\\\\\u00ae Building Automation System is the foundation of modern building energy management efficiency. This intelligent, world-class technology system connects your commercial HVAC, lighting, security and protection systems - enabling them to communicate on a single platform to deliver the information you need, allowing you to make smarter, savvier decisions while ...\\\\\\\"}\\\", \\\"{\\\\\\\"url\\\\\\\": \\\\\\\"https://www.d-tools.com/resource-center/industry-insights/best-building-automation-system-vendors\\\\\\\", \\\\\\\"content\\\\\\\": \\\\\\\"4. Johnson Controls. Johnson Controls, headquartered in Ireland and founded in 1885, specializes in electronics and HVAC equipment for buildings. They offer solutions in building efficiency, power solutions, global workplace solutions, and automotive experience. Their smart building automation system, BCPro, simplifies setup and provides ...\\\\\\\"}\\\", \\\"{\\\\\\\"url\\\\\\\": \\\\\\\"https://em360tech.com/top-10/building-automation-systems-bas\\\\\\\", \\\\\\\"content\\\\\\\": \\\\\\\"Types of building automation systems. 1. HVAC Control Systems. HVAC control systems focus on optimizing the heating, ventilation, and air conditioning (HVAC) systems within a building to achieve optimal comfort for the tenant. It consists of an outdoor unit which houses the condenser and compressor, and an indoor unit which contains the ...\\\\\\\"}\\\", \\\"{\\\\\\\"url\\\\\\\": \\\\\\\"https://www.siemens.com/us/en/products/buildingtechnologies/automation.html\\\\\\\", \\\\\\\"content\\\\\\\": \\\\\\\"Siemens offers fully-integrated building automation to connect HVAC, lighting, shades, safety, security, fire systems and more for any building type. Our solutions put you in command of all systems and equipment - remotely or onsite - to achieve energy efficiency, productivity and well-being. This is how we create sustainable, innovative ...\\\\\\\"}\\\", \\\"{\\\\\\\"url\\\\\\\": \\\\\\\"https://www.b-line.io/blog/building-automation-systems\\\\\\\", \\\\\\\"content\\\\\\\": \\\\\\\"A building automation system (BAS) is a network of devices that monitor and control the mechanical, electrical, and plumbing systems in a building. It uses mechanical systems like sensors, controllers, and actuators to gather data and automate responses, optimizing functions like HVAC, lighting, and security. Building automation software helps ...\\\\\\\"}\\\"]\"\n"
     ]
    }
   ],
   "source": [
    "from tavily import TavilyClient\n",
    "\n",
    "# Step 1. Instantiating your TavilyClient\n",
    "tavily_client = TavilyClient(api_key=os.environ[\"TAVILY_API_KEY\"])\n",
    "\n",
    "# Step 2. Executing a context search query\n",
    "context = tavily_client.get_search_context(query=\"What are the best professional building automation sytem sources?\")\n",
    "\n",
    "# Step 3. That's it! You now have a context string that you can feed directly into your RAG Application\n",
    "print(context)"
   ]
  },
  {
   "cell_type": "code",
   "execution_count": 19,
   "id": "936f3efd-ae89-4763-875c-61dd24d1b7d3",
   "metadata": {},
   "outputs": [
    {
     "name": "stdout",
     "output_type": "stream",
     "text": [
      "Answer: Lionel Messi, born in 1987 in Rosario, Argentina, is widely considered one of the greatest football players of his generation. He began his career with FC Barcelona and later joined Paris Saint-Germain in 2021. Messi has achieved numerous accolades, including being La Liga's top goal-scorer with 474 goals. He has also excelled on the international stage, leading Argentina to the World Cup final in 2014. Messi continues to be a dominant force in football, even at the age of 36.\n"
     ]
    }
   ],
   "source": [
    "from tavily import TavilyClient\n",
    "\n",
    "# Step 1. Instantiating your TavilyClient\n",
    "tavily_client = TavilyClient(api_key=os.environ[\"TAVILY_API_KEY\"])\n",
    "\n",
    "# Step 2. Executing a Q&A search query\n",
    "answer = tavily_client.qna_search(query=\"Who is Leo Messi?\")\n",
    "\n",
    "# Step 3. That's it! Your question has been answered!\n",
    "print(answer)"
   ]
  },
  {
   "cell_type": "code",
   "execution_count": 20,
   "id": "3bb0f25e-3ecb-46b6-97b9-afaa62cae296",
   "metadata": {},
   "outputs": [],
   "source": [
    "from tavily import TavilyClient\n",
    "tavily_client = TavilyClient(api_key=os.environ[\"TAVILY_API_KEY\"])\n",
    "\n",
    "# Step 2. Executing the search query and getting the results\n",
    "content = tavily_client.search(\"What happened in the latest burning man floods?\", search_depth=\"advanced\")[\"results\"]"
   ]
  },
  {
   "cell_type": "code",
   "execution_count": 21,
   "id": "f1e29b87-48d9-4b36-96de-4f02261598df",
   "metadata": {},
   "outputs": [
    {
     "data": {
      "text/plain": [
       "list"
      ]
     },
     "execution_count": 21,
     "metadata": {},
     "output_type": "execute_result"
    }
   ],
   "source": [
    "type(content)"
   ]
  },
  {
   "cell_type": "code",
   "execution_count": 22,
   "id": "2c03ad6f-f43b-431c-9414-0beac47731d2",
   "metadata": {},
   "outputs": [
    {
     "data": {
      "text/plain": [
       "5"
      ]
     },
     "execution_count": 22,
     "metadata": {},
     "output_type": "execute_result"
    }
   ],
   "source": [
    "len(content)"
   ]
  },
  {
   "cell_type": "code",
   "execution_count": 23,
   "id": "79c6c941-1910-4aa2-acdd-29ea8c23f644",
   "metadata": {},
   "outputs": [
    {
     "data": {
      "text/plain": [
       "{'title': 'The latest on the Burning Man flooding - NPR',\n",
       " 'url': 'https://www.npr.org/2023/09/03/1197497458/the-latest-on-the-burning-man-flooding',\n",
       " 'content': \"There are also reports that at least one person has died at the counterculture festival about a hundred miles north of Reno, Nev. Earlier this afternoon, I caught up with NPR's Claudia Peschiutta, who's at her first burn, and she told me it's muddy where she is, but that she and her camp family have been making the best of things.\\n National\\nThe latest on the Burning Man flooding\\nClaudia Peschiutta\\nAuthorities are investigating a death at the Burning Man festival in the Nevada desert after tens of thousands of people are stuck in camps because of rain.\\n SCOTT DETROW, HOST:\\nKnee-deep mud, warnings to conserve food and water, orders to shelter in place - this is all at Burning Man 2023 after torrential rains turned the Black Rock Desert into miles and miles of mud. I mean, mostly what I've seen from my personal experience is just any sort of need that you have, somebody, whether friend or neighbor or stranger, will jump in to help you out in some way. And I should mention that desert Wi-Fi is doing the best as it can as we talk to you, dropping in and out.\",\n",
       " 'score': 0.98481095,\n",
       " 'raw_content': None}"
      ]
     },
     "execution_count": 23,
     "metadata": {},
     "output_type": "execute_result"
    }
   ],
   "source": [
    "content[0]"
   ]
  },
  {
   "cell_type": "code",
   "execution_count": 24,
   "id": "ac8a9f9e-5ff5-40b8-bd89-a1c9cbcdc4fa",
   "metadata": {},
   "outputs": [
    {
     "data": {
      "text/plain": [
       "{'title': 'Burning Man attendees make a mass exodus after a dramatic weekend that ...',\n",
       " 'url': 'https://www.cnn.com/2023/09/05/us/burning-man-storms-shelter-exodus-tuesday/index.html',\n",
       " 'content': \"CNN values your feedback\\nBurning Man attendees make a mass exodus after a dramatic weekend that left thousands stuck in the Nevada desert\\nThousands of Burning Man attendees finally made their mass exodus after intense rain over the weekend flooded camp sites and filled them with thick, ankle-deep mud – stranding more than 70,000 free-spirited revelers as they waited for the Nevada desert city to dry out.\\n Burning Man organizers lift driving ban after heavy rains left the event smothered in mud and trapped thousands\\nThe area was still muddy and parts were still difficult to navigate, organizers warned, and the wait time to leave the city Monday night was about seven hours. Diplo hitchhiked ride out of rain-drenched Burning Man after walking miles 'through the mud' and actually made it to his DC concert\\n“Quite a wet start to September for much of eastern CA-western NV,” the National Weather Service in Reno wrote on X. ” “As soon as the tents started getting water-logged or unlivable, people in RVs started taking in some of the tenters, so everybody was warm,” Kaz Qamruddin, who attended the event, told CNN’s Brianna Keilar Monday.\\n From wood blocks to 'poop buckets,' how Burning Man organizers told festivalgoers to prepare for heavy rain\\nAmong the early departures was music DJ Diplo, who told CNN he walked several miles in the muddy desert Saturday morning along with other celebrities, including Chris Rock, Cindy Crawford, Kaia Gerber and Austin Butler.\",\n",
       " 'score': 0.81902647,\n",
       " 'raw_content': None}"
      ]
     },
     "execution_count": 24,
     "metadata": {},
     "output_type": "execute_result"
    }
   ],
   "source": [
    "content[1]"
   ]
  },
  {
   "cell_type": "code",
   "execution_count": null,
   "id": "6ecbf423-62f6-4f20-b20a-77b11b20cdd7",
   "metadata": {},
   "outputs": [],
   "source": []
  }
 ],
 "metadata": {
  "kernelspec": {
   "display_name": "Python 3 (ipykernel)",
   "language": "python",
   "name": "python3"
  },
  "language_info": {
   "codemirror_mode": {
    "name": "ipython",
    "version": 3
   },
   "file_extension": ".py",
   "mimetype": "text/x-python",
   "name": "python",
   "nbconvert_exporter": "python",
   "pygments_lexer": "ipython3",
   "version": "3.10.12"
  }
 },
 "nbformat": 4,
 "nbformat_minor": 5
}
